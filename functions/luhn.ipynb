{
 "cells": [
  {
   "cell_type": "markdown",
   "metadata": {},
   "source": [
    "This is a algorithm widely used in debit card or credit card verify.\n",
    "\n",
    "[Luhn algorithm](https://en.wikipedia.org/wiki/Luhn_algorithm)"
   ]
  },
  {
   "cell_type": "code",
   "execution_count": 1,
   "metadata": {},
   "outputs": [
    {
     "name": "stdout",
     "output_type": "stream",
     "text": [
      "pass\n",
      "invalid\n"
     ]
    }
   ],
   "source": [
    "def split(n):\n",
    "    return n // 10, n % 10\n",
    "\n",
    "\n",
    "def sum_digits(n):\n",
    "    if n < 10:\n",
    "        return n\n",
    "    else:\n",
    "        all_but_last, last = split(n)\n",
    "        return sum_digits(all_but_last) + last\n",
    "\n",
    "\n",
    "def luhn_sum(n):\n",
    "    if n < 10:\n",
    "        return n\n",
    "    else:\n",
    "        all_but_last, last = split(n)\n",
    "        return luhn_double_sum(all_but_last) + last\n",
    "\n",
    "\n",
    "def luhn_double_sum(n):\n",
    "    all_but_last, last = split(n)\n",
    "    luhn_sum_digit = sum_digits(2 * last)\n",
    "    if n < 10:\n",
    "        return luhn_sum_digit\n",
    "    else:\n",
    "        return luhn_sum(all_but_last) + luhn_sum_digit\n",
    "\n",
    "\n",
    "def card_correct(n):\n",
    "    if luhn_sum(n) % 10:\n",
    "        print(\"invalid\")\n",
    "    else:\n",
    "        print(\"pass\")\n",
    "\n",
    "\n",
    "card_correct(6227002007510134766)\n",
    "card_correct(6217000010109036327)\n"
   ]
  }
 ],
 "metadata": {
  "interpreter": {
   "hash": "33dffcd531ad7bbc0d9df7def1d4699e12a914e6f1e023f55a20da401c792b3e"
  },
  "kernelspec": {
   "display_name": "Python 3.10.1 64-bit (windows store)",
   "language": "python",
   "name": "python3"
  },
  "language_info": {
   "codemirror_mode": {
    "name": "ipython",
    "version": 3
   },
   "file_extension": ".py",
   "mimetype": "text/x-python",
   "name": "python",
   "nbconvert_exporter": "python",
   "pygments_lexer": "ipython3",
   "version": "3.10.1"
  },
  "orig_nbformat": 4
 },
 "nbformat": 4,
 "nbformat_minor": 2
}
